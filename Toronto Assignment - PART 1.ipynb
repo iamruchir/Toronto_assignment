{
    "nbformat_minor": 1, 
    "cells": [
        {
            "source": "# PART 1", 
            "cell_type": "markdown", 
            "metadata": {
                "collapsed": true
            }
        }, 
        {
            "source": "# Transforming the data in the table from Wikipedia page into  pandas dataframe", 
            "cell_type": "markdown", 
            "metadata": {}
        }, 
        {
            "execution_count": 4, 
            "cell_type": "code", 
            "metadata": {
                "scrolled": true
            }, 
            "outputs": [
                {
                    "execution_count": 4, 
                    "metadata": {}, 
                    "data": {
                        "text/html": "<div>\n<style scoped>\n    .dataframe tbody tr th:only-of-type {\n        vertical-align: middle;\n    }\n\n    .dataframe tbody tr th {\n        vertical-align: top;\n    }\n\n    .dataframe thead th {\n        text-align: right;\n    }\n</style>\n<table border=\"1\" class=\"dataframe\">\n  <thead>\n    <tr style=\"text-align: right;\">\n      <th></th>\n      <th>Postalcode</th>\n      <th>Borough</th>\n      <th>Neighourhood</th>\n    </tr>\n  </thead>\n  <tbody>\n    <tr>\n      <th>0</th>\n      <td>M1B</td>\n      <td>[Scarborough]</td>\n      <td>[Rouge, Malvern]</td>\n    </tr>\n    <tr>\n      <th>1</th>\n      <td>M1C</td>\n      <td>[Scarborough]</td>\n      <td>[Highland Creek, Rouge Hill, Port Union]</td>\n    </tr>\n    <tr>\n      <th>2</th>\n      <td>M1E</td>\n      <td>[Scarborough]</td>\n      <td>[Guildwood\n, Morningside, West Hill]</td>\n    </tr>\n    <tr>\n      <th>3</th>\n      <td>M1G</td>\n      <td>[Scarborough]</td>\n      <td>[Woburn]</td>\n    </tr>\n    <tr>\n      <th>4</th>\n      <td>M1H</td>\n      <td>[Scarborough]</td>\n      <td>[Cedarbrae\n]</td>\n    </tr>\n  </tbody>\n</table>\n</div>", 
                        "text/plain": "  Postalcode        Borough                              Neighourhood\n0        M1B  [Scarborough]                          [Rouge, Malvern]\n1        M1C  [Scarborough]  [Highland Creek, Rouge Hill, Port Union]\n2        M1E  [Scarborough]      [Guildwood\n, Morningside, West Hill]\n3        M1G  [Scarborough]                                  [Woburn]\n4        M1H  [Scarborough]                              [Cedarbrae\n]"
                    }, 
                    "output_type": "execute_result"
                }
            ], 
            "source": "import pandas as pd\nimport urllib.request #import the library used to query a website\n\n#specify the url\nwiki = \"https://en.wikipedia.org/wiki/List_of_postal_codes_of_Canada:_M\"\n\n#Query the website and return the html to the variable 'page'\npage=urllib.request.urlopen(wiki)\n\n#import the Beautiful soup functions to parse the data returned from the website\nfrom bs4 import BeautifulSoup\n\n#Parse the html in the 'page' variable, and store it in Beautiful Soup format\nsoup = BeautifulSoup(page)\n\nall_tables=soup.find_all('table')\n\n#Now selecting proper class\nright_table=soup.find('table', class_='wikitable sortable')\n\n#Generate lists\n\nA=[]\nB=[]\nC=[]\n\nfor row in right_table.findAll(\"tr\"):\n    cells = row.findAll('td')\n    states=row.findAll('th') #To store second column data\n    if len(cells)==3: #Only extract table body not heading\n        A.append(cells[0].find(text=True))\n        B.append(cells[1].find(text=True))\n        C.append(cells[2].find(text=True))\n       \n\n    \ndf=pd.DataFrame(A,columns=['Postalcode'])\ndf['Borough']=B\ndf['Neighourhood']=C\n\n#Dropping rows where Borough equals to 'Not assigned'\ndf.drop(df[df['Borough']=='Not assigned'].index,inplace=True)\n\ndf['Postalcode'].value_counts()\n\ndf_new =df.groupby(by='Postalcode' ,as_index=False).agg({'Borough':lambda x: list(pd.unique(x)),'Neighourhood':lambda x: list(x)})\ndf_new.head()"
        }, 
        {
            "source": "# Number of Rows", 
            "cell_type": "markdown", 
            "metadata": {}
        }, 
        {
            "execution_count": 5, 
            "cell_type": "code", 
            "metadata": {}, 
            "outputs": [
                {
                    "execution_count": 5, 
                    "metadata": {}, 
                    "data": {
                        "text/plain": "(103, 3)"
                    }, 
                    "output_type": "execute_result"
                }
            ], 
            "source": "df_new.shape "
        }, 
        {
            "execution_count": null, 
            "cell_type": "code", 
            "metadata": {}, 
            "outputs": [], 
            "source": ""
        }
    ], 
    "metadata": {
        "kernelspec": {
            "display_name": "Python 3.6", 
            "name": "python3", 
            "language": "python"
        }, 
        "language_info": {
            "mimetype": "text/x-python", 
            "nbconvert_exporter": "python", 
            "version": "3.6.8", 
            "name": "python", 
            "file_extension": ".py", 
            "pygments_lexer": "ipython3", 
            "codemirror_mode": {
                "version": 3, 
                "name": "ipython"
            }
        }
    }, 
    "nbformat": 4
}